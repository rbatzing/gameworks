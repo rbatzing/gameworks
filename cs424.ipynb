{
  "nbformat": 4,
  "nbformat_minor": 0,
  "metadata": {
    "colab": {
      "name": "cs424.ipynb",
      "provenance": [],
      "authorship_tag": "ABX9TyOZSf98NkjWAIJJ9ZWlPD/C",
      "include_colab_link": true
    },
    "kernelspec": {
      "name": "python3",
      "display_name": "Python 3"
    },
    "language_info": {
      "name": "python"
    }
  },
  "cells": [
    {
      "cell_type": "markdown",
      "metadata": {
        "id": "view-in-github",
        "colab_type": "text"
      },
      "source": [
        "<a href=\"https://colab.research.google.com/github/rbatzing/gameworks/blob/master/cs424.ipynb\" target=\"_parent\"><img src=\"https://colab.research.google.com/assets/colab-badge.svg\" alt=\"Open In Colab\"/></a>"
      ]
    },
    {
      "cell_type": "code",
      "metadata": {
        "id": "DwDmoFRBxqwV"
      },
      "source": [
        "a = rbind(c(1,2,3),c(4,5,6),c(7,8,9))\n",
        "a * 5\n"
      ],
      "execution_count": null,
      "outputs": []
    }
  ]
}